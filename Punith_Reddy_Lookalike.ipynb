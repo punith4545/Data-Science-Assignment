{
  "nbformat": 4,
  "nbformat_minor": 0,
  "metadata": {
    "colab": {
      "provenance": []
    },
    "kernelspec": {
      "name": "python3",
      "display_name": "Python 3"
    },
    "language_info": {
      "name": "python"
    }
  },
  "cells": [
    {
      "cell_type": "code",
      "execution_count": 1,
      "metadata": {
        "colab": {
          "base_uri": "https://localhost:8080/",
          "height": 211
        },
        "id": "_O3EMcbPnytK",
        "outputId": "1a9122de-b49d-4e2c-b8aa-7b4f1875bf8e"
      },
      "outputs": [
        {
          "output_type": "error",
          "ename": "NameError",
          "evalue": "name 'customer_features' is not defined",
          "traceback": [
            "\u001b[0;31m---------------------------------------------------------------------------\u001b[0m",
            "\u001b[0;31mNameError\u001b[0m                                 Traceback (most recent call last)",
            "\u001b[0;32m<ipython-input-1-1856d695db39>\u001b[0m in \u001b[0;36m<cell line: 0>\u001b[0;34m()\u001b[0m\n\u001b[1;32m      3\u001b[0m \u001b[0;34m\u001b[0m\u001b[0m\n\u001b[1;32m      4\u001b[0m \u001b[0mnumerical_features\u001b[0m \u001b[0;34m=\u001b[0m \u001b[0;34m[\u001b[0m\u001b[0;34m'TotalSpending'\u001b[0m\u001b[0;34m,\u001b[0m \u001b[0;34m'TransactionCount'\u001b[0m\u001b[0;34m,\u001b[0m \u001b[0;34m'AverageTransactionValue'\u001b[0m\u001b[0;34m]\u001b[0m\u001b[0;34m\u001b[0m\u001b[0;34m\u001b[0m\u001b[0m\n\u001b[0;32m----> 5\u001b[0;31m \u001b[0mcustomer_profiles\u001b[0m \u001b[0;34m=\u001b[0m \u001b[0mcustomer_features\u001b[0m\u001b[0;34m[\u001b[0m\u001b[0mnumerical_features\u001b[0m\u001b[0;34m]\u001b[0m\u001b[0;34m\u001b[0m\u001b[0;34m\u001b[0m\u001b[0m\n\u001b[0m\u001b[1;32m      6\u001b[0m \u001b[0;34m\u001b[0m\u001b[0m\n\u001b[1;32m      7\u001b[0m \u001b[0;34m\u001b[0m\u001b[0m\n",
            "\u001b[0;31mNameError\u001b[0m: name 'customer_features' is not defined"
          ]
        }
      ],
      "source": [
        "from sklearn.metrics.pairwise import cosine_similarity\n",
        "import pandas as pd\n",
        "\n",
        "numerical_features = ['TotalSpending', 'TransactionCount', 'AverageTransactionValue']\n",
        "customer_profiles = customer_features[numerical_features]\n",
        "\n",
        "\n",
        "similarity_matrix = cosine_similarity(customer_profiles)\n",
        "\n",
        "\n",
        "customer_profiles = customer_profiles.reset_index()\n",
        "\n",
        "\n",
        "recommendations = {}\n",
        "for i, customer in enumerate(customer_profiles['CustomerID'][:20]):\n",
        "\n",
        "    similar_customers = sorted(enumerate(similarity_matrix[i]), key=lambda x: x[1], reverse=True)[1:4]\n",
        "\n",
        "\n",
        "    recommendations[customer] = [(customer_profiles['CustomerID'][idx], score) for idx, score in similar_customers]\n",
        "\n",
        "import csv\n",
        "with open('Lookalike.csv', 'w', newline='') as file:\n",
        "    writer = csv.writer(file)\n",
        "    writer.writerow(['CustomerID', 'Lookalikes'])\n",
        "    for key, value in recommendations.items():\n",
        "        writer.writerow([key, value])\n",
        "print(\"Lookalike recommendations saved!\")"
      ]
    }
  ]
}